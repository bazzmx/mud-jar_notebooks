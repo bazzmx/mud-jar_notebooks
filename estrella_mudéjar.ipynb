{
 "cells": [
  {
   "cell_type": "markdown",
   "metadata": {},
   "source": [
    "# Un breve ejemplo de uso de matplotlib empleando las proporciones de las estrellas de ocho puntas"
   ]
  },
  {
   "cell_type": "markdown",
   "metadata": {},
   "source": [
    "## Las estrellas tarésicas\n",
    "\n",
    "Los mozárabes y mudéjares llevaron la estrella de ocho puntas por todo el norte de la Península Ibérica y los musulmanes y moriscos la difundieron por el Magreb y el Oriente Medio. Actualmente puede verse en numerosos edificios de España, como en la Alhambra. Leer más en: https://es.wikipedia.org/wiki/Estrella_Tartésica\n",
    "\n",
    "![title](./img/estrella_teruel.jpg)"
   ]
  },
  {
   "cell_type": "code",
   "execution_count": 1,
   "metadata": {},
   "outputs": [
    {
     "data": {
      "text/plain": [
       "<Figure size 640x480 with 1 Axes>"
      ]
     },
     "metadata": {},
     "output_type": "display_data"
    }
   ],
   "source": [
    "import matplotlib.pyplot as plt\n",
    "import math\n",
    "\n",
    "# Para dibujar un cuadrado empleamos la función rectangle\n",
    "# Declaramos una variable \"cuadrado\" cuyo primer punto estará en el origen (0,0)\n",
    "# con una longitud de 100 y con un color fc=\"g\" (verde)\n",
    "\n",
    "cuadrado = plt.Rectangle((0, 0), 100, 100, fc=\"g\")\n",
    "\n",
    "plt.gca().add_patch(cuadrado)\n",
    "plt.axis(\"scaled\")\n",
    "plt.show()"
   ]
  },
  {
   "cell_type": "code",
   "execution_count": 2,
   "metadata": {},
   "outputs": [
    {
     "data": {
      "image/png": "[encoded data removed]",
      "text/plain": [
       "<Figure size 432x288 with 1 Axes>"
      ]
     },
     "metadata": {
      "needs_background": "light"
     },
     "output_type": "display_data"
    }
   ],
   "source": [
    "# Para rotar el cuadrado añadimos un valor al atributo angle, en este caso 45°\n",
    "\n",
    "cuadrado = plt.Rectangle((0, 0), 100, 100, fc=\"g\", angle=45)\n",
    "\n",
    "plt.gca().add_patch(cuadrado)\n",
    "plt.axis(\"scaled\")\n",
    "plt.show()"
   ]
  },
  {
   "cell_type": "markdown",
   "metadata": {},
   "source": [
    "Podemos dibujar nuestra estrella mudéjar empleando estos dos cuadrados superpuestos, uno sin rotación y uno con una rotación de 45°. No obstante tenemos que tener en cuenta las proporciones y medidas para obtener el resultado deseado, ya que matplot no basta simplemente añadir un ángulo de 45° como podemos ver en el siguiente ejemplo:"
   ]
  },
  {
   "cell_type": "code",
   "execution_count": 3,
   "metadata": {},
   "outputs": [
    {
     "data": {
      "image/png": "[encoded data removed]",
      "text/plain": [
       "<Figure size 432x288 with 1 Axes>"
      ]
     },
     "metadata": {
      "needs_background": "light"
     },
     "output_type": "display_data"
    }
   ],
   "source": [
    "c1 = plt.Rectangle((0, 0), 100, 100, fc=\"g\")\n",
    "plt.gca().add_patch(c1)\n",
    "c2 = plt.Rectangle((0, 0), 100, 100, fc=\"b\", angle=45)\n",
    "plt.gca().add_patch(c2)\n",
    "\n",
    "plt.axis(\"scaled\")\n",
    "plt.show()"
   ]
  },
  {
   "cell_type": "code",
   "execution_count": 4,
   "metadata": {},
   "outputs": [],
   "source": [
    "# Podemos establecer manualmente los valores para ajustar el cuadrado, pero...\n",
    "# ya puestos en el papel de artesanos mudéjar será más interesante usar las\n",
    "# las medidas del primer cuadrado para generar las proporciones y medidas del \n",
    "# segundo cuadrado\n",
    "\n",
    "# Declaramos la longitud de nuestro cuadrado\n",
    "L1 = 100\n",
    "\n",
    "# Obtenemos la diagonal ya que, a pesar de que los cuatro lados de un cuadrado\n",
    "# son iguales, su diagonal es más larga ...recuerdos del teorema de pitágoras.\n",
    "# Usamos una función para calcular la diagonal:\n",
    "\n",
    "def get_diag(l):\n",
    "    # Tomamos como entrada la longitud l de un cuadrado y\n",
    "    # retornamos la longitud multiplicada por la raiz cuadrada de 2\n",
    "    return math.sqrt(2) * l\n",
    "\n",
    "D1 = get_diag(L1)\n",
    "\n",
    "# Nuestro primer cuadrado se encontrará en el origen, pero el segundo tiene que\n",
    "# centrarse tomando en cuentra las medidas del primero.\n",
    "\n",
    "# Con una L1 = 100, la x de nuestro cuadrado con rotación debe estar en el punto medio\n",
    "# del primer cuadrado:\n",
    "x_r1 = L1/2\n",
    "\n",
    "# Mientras que la y debe ajustarse usando la medida de su diagonal.Restamos la medida\n",
    "# de la diagonal a longitud y dividimos entre 2 para matener la simetría de la figura.\n",
    "y_r1 = (L1-D1)/2\n"
   ]
  },
  {
   "cell_type": "code",
   "execution_count": 5,
   "metadata": {},
   "outputs": [
    {
     "data": {
      "image/png": "[encoded data removed]",
      "text/plain": [
       "<Figure size 432x288 with 1 Axes>"
      ]
     },
     "metadata": {
      "needs_background": "light"
     },
     "output_type": "display_data"
    }
   ],
   "source": [
    "# Mostramos la imagen empleando las variables declaradas anteriormente\n",
    "# Añadimos el primer cuadrado\n",
    "plt.axes()\n",
    "r1_a = plt.Rectangle((0, 0), L1, L1, fc=\"g\")\n",
    "plt.gca().add_patch(r1_a)\n",
    "\n",
    "# Añadimos el segundo cuadrado con rotación y coordenadas ajustadas\n",
    "r1_b = plt.Rectangle((x_r1, y_r1), L1, L1, fc=\"g\", angle=45)\n",
    "plt.gca().add_patch(r1_b)\n",
    "\n",
    "plt.axis(\"scaled\")\n",
    "plt.show()"
   ]
  },
  {
   "cell_type": "markdown",
   "metadata": {},
   "source": [
    "Hasta aquí todo bien, pero como se ve en la imagen del principio, en el centro de esta estrella, tenemos una estrella más pequeña de color blanco. En la práctica los maestros artesanos tienen segmentos de piezas que crean esta figura.\n",
    "\n",
    "Siguiendo los pasos para generar la primera estrella, la segunda estrella interior debe de tomar en cuenta las medidas y coordenadas de la primera y tener una proporción armónica because a e s t h e t i c s."
   ]
  },
  {
   "cell_type": "code",
   "execution_count": 6,
   "metadata": {},
   "outputs": [
    {
     "data": {
      "image/png": "[encoded data removed]",
      "text/plain": [
       "<Figure size 432x288 with 1 Axes>"
      ]
     },
     "metadata": {
      "needs_background": "light"
     },
     "output_type": "display_data"
    }
   ],
   "source": [
    "plt.axes()\n",
    "\n",
    "# Empleamos una longitud de un 60% del tamaño del original, del 40% restante del tamaño original\n",
    "# quedará un 20% como márgenes laterales\n",
    "L2 = L1*.60\n",
    "\n",
    "# Calculamos la diagonal del cuadrado interior\n",
    "D2 = get_diag(L2)\n",
    "\n",
    "# Las coordenadas del cuadrado interior deben de tomar de referencia las del original. En el \n",
    "# caso del que no tendrá ángulo de rotación calculamos la mitad de la diferencia L1 - L2\n",
    "xy_r2 = (L1-L2)/2\n",
    "\n",
    "# El segundo cuadrado interior debe tener una rotación de 45°, de igual forma que el exterior.\n",
    "# Empleamos la misma coordenada x del cuadrado original, pero asignamos una y tomando como \n",
    "# referencia la L1 del cuadrado exterior y la diagonal del cuadrado interior sobre 2.\n",
    "y_r2 = (L1-D2)/2\n",
    "\n",
    "r2_a = plt.Rectangle((xy_r2, xy_r2), L2, L2, fc=\"b\") # utilizamos azul para diferenciar\n",
    "plt.gca().add_patch(r2_a)\n",
    "\n",
    "r2_b = plt.Rectangle((x_r1, y_r2), L2, L2, fc=\"b\", angle=45)\n",
    "plt.gca().add_patch(r2_b)\n",
    "\n",
    "plt.axis(\"scaled\")\n",
    "plt.show()"
   ]
  },
  {
   "cell_type": "code",
   "execution_count": 7,
   "metadata": {},
   "outputs": [
    {
     "data": {
      "image/png": "[encoded data removed]",
      "text/plain": [
       "<Figure size 432x288 with 1 Axes>"
      ]
     },
     "metadata": {
      "needs_background": "light"
     },
     "output_type": "display_data"
    }
   ],
   "source": [
    "# Ahora podemos aplicar todos los pasos anteriores en una sola figura\n",
    "\n",
    "plt.axes()\n",
    "\n",
    "# Declaramos variables para los colores\n",
    "c1 = \"g\"\n",
    "c2 = \"w\"\n",
    "\n",
    "# Establecemos las medidas y proporción\n",
    "L1 = 100\n",
    "L2 = L1*.60\n",
    "\n",
    "# Calculamos las diagonales\n",
    "D1 = get_diag(L1)\n",
    "D2 = get_diag(L2)\n",
    "\n",
    "# Calculamos las coordenadas\n",
    "x_r1 = L1/2\n",
    "y_r1 = (L1-D1)/2\n",
    "\n",
    "xy_r2 = (L1-L2)/2\n",
    "y_r2 = (L1-D2)/2\n",
    "\n",
    "# Generamos el primer cuadrado exterior\n",
    "r1_a = plt.Rectangle((0, 0), L1, L1, fc=c1)\n",
    "plt.gca().add_patch(r1_a)\n",
    "\n",
    "# Generamos el segundo cuadrado exterior con rotación\n",
    "r1_b = plt.Rectangle((x_r1, y_r1), L1, L1, fc=c1, angle=45)\n",
    "plt.gca().add_patch(r1_b)\n",
    "\n",
    "# Generamos el primer cuadrado interior\n",
    "r2_a = plt.Rectangle((xy_r2, xy_r2), L2, L2, fc=c2)\n",
    "plt.gca().add_patch(r2_a)\n",
    "\n",
    "# Generamos el segundo cuadrado interior con rotación\n",
    "r2_b = plt.Rectangle((x_r1, y_r2), L2, L2, fc=c2, angle=45)\n",
    "plt.gca().add_patch(r2_b)\n",
    "\n",
    "plt.axis(\"scaled\")\n",
    "plt.show()"
   ]
  },
  {
   "cell_type": "markdown",
   "metadata": {},
   "source": [
    "Esta es una manera sencilla de dibujar una estrella empleando solamente cuadrados y ángulos, si quisiéramos dibujar exactamente el diseño del patrón tendríamos que tener más cosas en cuenta, por ejemplo: los ángulos entre cada pico, los puntos donde se unen y separan las piezas que la conforman."
   ]
  },
  {
   "cell_type": "code",
   "execution_count": null,
   "metadata": {},
   "outputs": [],
   "source": []
  }
 ],
 "metadata": {
  "kernelspec": {
   "display_name": "Python 3",
   "language": "python",
   "name": "python3"
  },
  "language_info": {
   "codemirror_mode": {
    "name": "ipython",
    "version": 3
   },
   "file_extension": ".py",
   "mimetype": "text/x-python",
   "name": "python",
   "nbconvert_exporter": "python",
   "pygments_lexer": "ipython3",
   "version": "3.7.4"
  }
 },
 "nbformat": 4,
 "nbformat_minor": 2
}
